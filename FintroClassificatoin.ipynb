{
 "cells": [
  {
   "cell_type": "code",
   "execution_count": 1,
   "metadata": {},
   "outputs": [],
   "source": [
    "import pandas as pd\n",
    "import matplotlib.pyplot as plt\n",
    "from pandas.plotting import scatter_matrix\n",
    "from scipy.stats import chi2_contingency\n",
    "import seaborn as sns\n",
    "from sklearn.model_selection import train_test_split\n",
    "from sklearn.metrics import accuracy_score"
   ]
  },
  {
   "cell_type": "raw",
   "metadata": {},
   "source": [
    "Data\n",
    "Variable\tDefinition\n",
    "ID\tUnique Application ID\n",
    "Office_PIN\tPINCODE of Fintro's Offices\n",
    "Application_Receipt_Date\tDate of Application\n",
    "Applicant_City_PIN\tPINCODE of Applicant Address\n",
    "Applicant_Gender\tApplicant's Gender\n",
    "Applicant_BirthDate\tApplicant's Birthdate\n",
    "Applicant_Marital_Status\tApplicant's Marital Status\n",
    "Applicant_Occupation\tApplicant's Occupation\n",
    "Applicant_Qualification\tApplicant's Educational Qualification\n",
    "Manager_DOJ\tManager's Date of Joining\n",
    "Manager_Joining_Designation\tManager's Joining Designation in Fintro\n",
    "Manager_Current_Designation\tManager's Designation at the time of application sourcing\n",
    "Manager_Grade\tManager's Grade in Fintro\n",
    "Manager_Status\tCurrent Employment Status (Probation / Confirmation)\n",
    "Manager_Gender\tManager's Gender\n",
    "Manager_DoB\tManager's Birthdate\n",
    "Manager_Num_Application\tNo. of Applications sourced in last 3 months by the Manager\n",
    "Manager_Num_Coded\tNo. of agents recruited by the manager in last 3 months\n",
    "Manager_Business\tAmount of business sourced by the manager in last 3 months\n",
    "Manager_Num_Products\tNumber of products sold by the manager in last 3 months\n",
    "Manager_Business2\tAmount of business sourced by the manager in last 3 months excluding business from their Category A advisor\n",
    "Manager_Num_Products2\tNumber of products sold by the manager in last 3 months excluding business from their Category A advisor\n",
    "Business_Sourced(Target)\tBusiness sourced by applicant within 3 months [1/0] of recruitment"
   ]
  },
  {
   "cell_type": "code",
   "execution_count": 2,
   "metadata": {
    "scrolled": true
   },
   "outputs": [
    {
     "data": {
      "text/html": [
       "<div>\n",
       "<style scoped>\n",
       "    .dataframe tbody tr th:only-of-type {\n",
       "        vertical-align: middle;\n",
       "    }\n",
       "\n",
       "    .dataframe tbody tr th {\n",
       "        vertical-align: top;\n",
       "    }\n",
       "\n",
       "    .dataframe thead th {\n",
       "        text-align: right;\n",
       "    }\n",
       "</style>\n",
       "<table border=\"1\" class=\"dataframe\">\n",
       "  <thead>\n",
       "    <tr style=\"text-align: right;\">\n",
       "      <th></th>\n",
       "      <th>ID</th>\n",
       "      <th>Office_PIN</th>\n",
       "      <th>Application_Receipt_Date</th>\n",
       "      <th>Applicant_City_PIN</th>\n",
       "      <th>Applicant_Gender</th>\n",
       "      <th>Applicant_BirthDate</th>\n",
       "      <th>Applicant_Marital_Status</th>\n",
       "      <th>Applicant_Occupation</th>\n",
       "      <th>Applicant_Qualification</th>\n",
       "      <th>Manager_DOJ</th>\n",
       "      <th>...</th>\n",
       "      <th>Manager_Status</th>\n",
       "      <th>Manager_Gender</th>\n",
       "      <th>Manager_DoB</th>\n",
       "      <th>Manager_Num_Application</th>\n",
       "      <th>Manager_Num_Coded</th>\n",
       "      <th>Manager_Business</th>\n",
       "      <th>Manager_Num_Products</th>\n",
       "      <th>Manager_Business2</th>\n",
       "      <th>Manager_Num_Products2</th>\n",
       "      <th>Business_Sourced</th>\n",
       "    </tr>\n",
       "  </thead>\n",
       "  <tbody>\n",
       "    <tr>\n",
       "      <th>0</th>\n",
       "      <td>FIN1000001</td>\n",
       "      <td>842001</td>\n",
       "      <td>4/16/2007</td>\n",
       "      <td>844120.0</td>\n",
       "      <td>M</td>\n",
       "      <td>12/19/1971</td>\n",
       "      <td>M</td>\n",
       "      <td>Others</td>\n",
       "      <td>Graduate</td>\n",
       "      <td>11/10/2005</td>\n",
       "      <td>...</td>\n",
       "      <td>Confirmation</td>\n",
       "      <td>M</td>\n",
       "      <td>2/17/1978</td>\n",
       "      <td>2.0</td>\n",
       "      <td>1.0</td>\n",
       "      <td>335249.0</td>\n",
       "      <td>28.0</td>\n",
       "      <td>335249.0</td>\n",
       "      <td>28.0</td>\n",
       "      <td>0</td>\n",
       "    </tr>\n",
       "    <tr>\n",
       "      <th>1</th>\n",
       "      <td>FIN1000002</td>\n",
       "      <td>842001</td>\n",
       "      <td>4/16/2007</td>\n",
       "      <td>844111.0</td>\n",
       "      <td>M</td>\n",
       "      <td>2/17/1983</td>\n",
       "      <td>S</td>\n",
       "      <td>Others</td>\n",
       "      <td>Class XII</td>\n",
       "      <td>11/10/2005</td>\n",
       "      <td>...</td>\n",
       "      <td>Confirmation</td>\n",
       "      <td>M</td>\n",
       "      <td>2/17/1978</td>\n",
       "      <td>2.0</td>\n",
       "      <td>1.0</td>\n",
       "      <td>335249.0</td>\n",
       "      <td>28.0</td>\n",
       "      <td>335249.0</td>\n",
       "      <td>28.0</td>\n",
       "      <td>1</td>\n",
       "    </tr>\n",
       "    <tr>\n",
       "      <th>2</th>\n",
       "      <td>FIN1000003</td>\n",
       "      <td>800001</td>\n",
       "      <td>4/16/2007</td>\n",
       "      <td>844101.0</td>\n",
       "      <td>M</td>\n",
       "      <td>1/16/1966</td>\n",
       "      <td>M</td>\n",
       "      <td>Business</td>\n",
       "      <td>Class XII</td>\n",
       "      <td>5/27/2006</td>\n",
       "      <td>...</td>\n",
       "      <td>Confirmation</td>\n",
       "      <td>M</td>\n",
       "      <td>3/3/1969</td>\n",
       "      <td>0.0</td>\n",
       "      <td>0.0</td>\n",
       "      <td>357184.0</td>\n",
       "      <td>24.0</td>\n",
       "      <td>357184.0</td>\n",
       "      <td>24.0</td>\n",
       "      <td>0</td>\n",
       "    </tr>\n",
       "    <tr>\n",
       "      <th>3</th>\n",
       "      <td>FIN1000004</td>\n",
       "      <td>814112</td>\n",
       "      <td>4/16/2007</td>\n",
       "      <td>814112.0</td>\n",
       "      <td>M</td>\n",
       "      <td>2/3/1988</td>\n",
       "      <td>S</td>\n",
       "      <td>Salaried</td>\n",
       "      <td>Class XII</td>\n",
       "      <td>8/21/2003</td>\n",
       "      <td>...</td>\n",
       "      <td>Confirmation</td>\n",
       "      <td>F</td>\n",
       "      <td>8/14/1978</td>\n",
       "      <td>0.0</td>\n",
       "      <td>0.0</td>\n",
       "      <td>318356.0</td>\n",
       "      <td>22.0</td>\n",
       "      <td>318356.0</td>\n",
       "      <td>22.0</td>\n",
       "      <td>0</td>\n",
       "    </tr>\n",
       "    <tr>\n",
       "      <th>4</th>\n",
       "      <td>FIN1000005</td>\n",
       "      <td>814112</td>\n",
       "      <td>4/16/2007</td>\n",
       "      <td>815351.0</td>\n",
       "      <td>M</td>\n",
       "      <td>7/4/1985</td>\n",
       "      <td>M</td>\n",
       "      <td>Others</td>\n",
       "      <td>Class XII</td>\n",
       "      <td>5/8/2006</td>\n",
       "      <td>...</td>\n",
       "      <td>Confirmation</td>\n",
       "      <td>M</td>\n",
       "      <td>2/7/1971</td>\n",
       "      <td>2.0</td>\n",
       "      <td>1.0</td>\n",
       "      <td>230402.0</td>\n",
       "      <td>17.0</td>\n",
       "      <td>230402.0</td>\n",
       "      <td>17.0</td>\n",
       "      <td>0</td>\n",
       "    </tr>\n",
       "  </tbody>\n",
       "</table>\n",
       "<p>5 rows × 23 columns</p>\n",
       "</div>"
      ],
      "text/plain": [
       "           ID  Office_PIN Application_Receipt_Date  Applicant_City_PIN  \\\n",
       "0  FIN1000001      842001                4/16/2007            844120.0   \n",
       "1  FIN1000002      842001                4/16/2007            844111.0   \n",
       "2  FIN1000003      800001                4/16/2007            844101.0   \n",
       "3  FIN1000004      814112                4/16/2007            814112.0   \n",
       "4  FIN1000005      814112                4/16/2007            815351.0   \n",
       "\n",
       "  Applicant_Gender Applicant_BirthDate Applicant_Marital_Status  \\\n",
       "0                M          12/19/1971                        M   \n",
       "1                M           2/17/1983                        S   \n",
       "2                M           1/16/1966                        M   \n",
       "3                M            2/3/1988                        S   \n",
       "4                M            7/4/1985                        M   \n",
       "\n",
       "  Applicant_Occupation Applicant_Qualification Manager_DOJ        ...         \\\n",
       "0               Others                Graduate  11/10/2005        ...          \n",
       "1               Others               Class XII  11/10/2005        ...          \n",
       "2             Business               Class XII   5/27/2006        ...          \n",
       "3             Salaried               Class XII   8/21/2003        ...          \n",
       "4               Others               Class XII    5/8/2006        ...          \n",
       "\n",
       "  Manager_Status Manager_Gender  Manager_DoB Manager_Num_Application  \\\n",
       "0   Confirmation              M    2/17/1978                     2.0   \n",
       "1   Confirmation              M    2/17/1978                     2.0   \n",
       "2   Confirmation              M     3/3/1969                     0.0   \n",
       "3   Confirmation              F    8/14/1978                     0.0   \n",
       "4   Confirmation              M     2/7/1971                     2.0   \n",
       "\n",
       "  Manager_Num_Coded Manager_Business  Manager_Num_Products  Manager_Business2  \\\n",
       "0               1.0         335249.0                  28.0           335249.0   \n",
       "1               1.0         335249.0                  28.0           335249.0   \n",
       "2               0.0         357184.0                  24.0           357184.0   \n",
       "3               0.0         318356.0                  22.0           318356.0   \n",
       "4               1.0         230402.0                  17.0           230402.0   \n",
       "\n",
       "   Manager_Num_Products2  Business_Sourced  \n",
       "0                   28.0                 0  \n",
       "1                   28.0                 1  \n",
       "2                   24.0                 0  \n",
       "3                   22.0                 0  \n",
       "4                   17.0                 0  \n",
       "\n",
       "[5 rows x 23 columns]"
      ]
     },
     "execution_count": 2,
     "metadata": {},
     "output_type": "execute_result"
    }
   ],
   "source": [
    "train_df = pd.read_csv(\"Train_pjb2QcD.csv\")\n",
    "test_df = pd.read_csv(\"Test_wyCirpO.csv\")\n",
    "train_df.head()"
   ]
  },
  {
   "cell_type": "code",
   "execution_count": 3,
   "metadata": {},
   "outputs": [
    {
     "data": {
      "text/plain": [
       "(9527, 23)"
      ]
     },
     "execution_count": 3,
     "metadata": {},
     "output_type": "execute_result"
    }
   ],
   "source": [
    "train_df.shape"
   ]
  },
  {
   "cell_type": "code",
   "execution_count": 4,
   "metadata": {},
   "outputs": [
    {
     "data": {
      "text/plain": [
       "ID                              object\n",
       "Office_PIN                       int64\n",
       "Application_Receipt_Date        object\n",
       "Applicant_City_PIN             float64\n",
       "Applicant_Gender                object\n",
       "Applicant_BirthDate             object\n",
       "Applicant_Marital_Status        object\n",
       "Applicant_Occupation            object\n",
       "Applicant_Qualification         object\n",
       "Manager_DOJ                     object\n",
       "Manager_Joining_Designation     object\n",
       "Manager_Current_Designation     object\n",
       "Manager_Grade                  float64\n",
       "Manager_Status                  object\n",
       "Manager_Gender                  object\n",
       "Manager_DoB                     object\n",
       "Manager_Num_Application        float64\n",
       "Manager_Num_Coded              float64\n",
       "Manager_Business               float64\n",
       "Manager_Num_Products           float64\n",
       "Manager_Business2              float64\n",
       "Manager_Num_Products2          float64\n",
       "Business_Sourced                 int64\n",
       "dtype: object"
      ]
     },
     "execution_count": 4,
     "metadata": {},
     "output_type": "execute_result"
    }
   ],
   "source": [
    "train_df.dtypes"
   ]
  },
  {
   "cell_type": "code",
   "execution_count": 5,
   "metadata": {},
   "outputs": [
    {
     "data": {
      "text/html": [
       "<div>\n",
       "<style scoped>\n",
       "    .dataframe tbody tr th:only-of-type {\n",
       "        vertical-align: middle;\n",
       "    }\n",
       "\n",
       "    .dataframe tbody tr th {\n",
       "        vertical-align: top;\n",
       "    }\n",
       "\n",
       "    .dataframe thead th {\n",
       "        text-align: right;\n",
       "    }\n",
       "</style>\n",
       "<table border=\"1\" class=\"dataframe\">\n",
       "  <thead>\n",
       "    <tr style=\"text-align: right;\">\n",
       "      <th></th>\n",
       "      <th>Office_PIN</th>\n",
       "      <th>Applicant_City_PIN</th>\n",
       "      <th>Manager_Grade</th>\n",
       "      <th>Manager_Num_Application</th>\n",
       "      <th>Manager_Num_Coded</th>\n",
       "      <th>Manager_Business</th>\n",
       "      <th>Manager_Num_Products</th>\n",
       "      <th>Manager_Business2</th>\n",
       "      <th>Manager_Num_Products2</th>\n",
       "      <th>Business_Sourced</th>\n",
       "    </tr>\n",
       "  </thead>\n",
       "  <tbody>\n",
       "    <tr>\n",
       "      <th>count</th>\n",
       "      <td>9527.000000</td>\n",
       "      <td>9430.000000</td>\n",
       "      <td>8844.000000</td>\n",
       "      <td>8844.000000</td>\n",
       "      <td>8844.000000</td>\n",
       "      <td>8.844000e+03</td>\n",
       "      <td>8844.000000</td>\n",
       "      <td>8.844000e+03</td>\n",
       "      <td>8844.000000</td>\n",
       "      <td>9527.00000</td>\n",
       "    </tr>\n",
       "    <tr>\n",
       "      <th>mean</th>\n",
       "      <td>452894.372205</td>\n",
       "      <td>456784.547296</td>\n",
       "      <td>3.264134</td>\n",
       "      <td>1.939733</td>\n",
       "      <td>0.758933</td>\n",
       "      <td>1.843710e+05</td>\n",
       "      <td>7.152307</td>\n",
       "      <td>1.829263e+05</td>\n",
       "      <td>7.131275</td>\n",
       "      <td>0.34292</td>\n",
       "    </tr>\n",
       "    <tr>\n",
       "      <th>std</th>\n",
       "      <td>235690.618252</td>\n",
       "      <td>239291.081207</td>\n",
       "      <td>1.137449</td>\n",
       "      <td>2.150529</td>\n",
       "      <td>1.188644</td>\n",
       "      <td>2.747163e+05</td>\n",
       "      <td>8.439351</td>\n",
       "      <td>2.718021e+05</td>\n",
       "      <td>8.423597</td>\n",
       "      <td>0.47471</td>\n",
       "    </tr>\n",
       "    <tr>\n",
       "      <th>min</th>\n",
       "      <td>110005.000000</td>\n",
       "      <td>110001.000000</td>\n",
       "      <td>1.000000</td>\n",
       "      <td>0.000000</td>\n",
       "      <td>0.000000</td>\n",
       "      <td>-2.652890e+05</td>\n",
       "      <td>0.000000</td>\n",
       "      <td>-2.652890e+05</td>\n",
       "      <td>0.000000</td>\n",
       "      <td>0.00000</td>\n",
       "    </tr>\n",
       "    <tr>\n",
       "      <th>25%</th>\n",
       "      <td>226001.000000</td>\n",
       "      <td>226020.000000</td>\n",
       "      <td>2.000000</td>\n",
       "      <td>0.000000</td>\n",
       "      <td>0.000000</td>\n",
       "      <td>0.000000e+00</td>\n",
       "      <td>0.000000</td>\n",
       "      <td>0.000000e+00</td>\n",
       "      <td>0.000000</td>\n",
       "      <td>0.00000</td>\n",
       "    </tr>\n",
       "    <tr>\n",
       "      <th>50%</th>\n",
       "      <td>416001.000000</td>\n",
       "      <td>422005.500000</td>\n",
       "      <td>3.000000</td>\n",
       "      <td>1.000000</td>\n",
       "      <td>0.000000</td>\n",
       "      <td>1.021780e+05</td>\n",
       "      <td>5.000000</td>\n",
       "      <td>1.017140e+05</td>\n",
       "      <td>5.000000</td>\n",
       "      <td>0.00000</td>\n",
       "    </tr>\n",
       "    <tr>\n",
       "      <th>75%</th>\n",
       "      <td>695014.000000</td>\n",
       "      <td>695017.000000</td>\n",
       "      <td>4.000000</td>\n",
       "      <td>3.000000</td>\n",
       "      <td>1.000000</td>\n",
       "      <td>2.471165e+05</td>\n",
       "      <td>11.000000</td>\n",
       "      <td>2.464612e+05</td>\n",
       "      <td>11.000000</td>\n",
       "      <td>1.00000</td>\n",
       "    </tr>\n",
       "    <tr>\n",
       "      <th>max</th>\n",
       "      <td>851101.000000</td>\n",
       "      <td>995657.000000</td>\n",
       "      <td>10.000000</td>\n",
       "      <td>22.000000</td>\n",
       "      <td>9.000000</td>\n",
       "      <td>3.578265e+06</td>\n",
       "      <td>101.000000</td>\n",
       "      <td>3.578265e+06</td>\n",
       "      <td>101.000000</td>\n",
       "      <td>1.00000</td>\n",
       "    </tr>\n",
       "  </tbody>\n",
       "</table>\n",
       "</div>"
      ],
      "text/plain": [
       "          Office_PIN  Applicant_City_PIN  Manager_Grade  \\\n",
       "count    9527.000000         9430.000000    8844.000000   \n",
       "mean   452894.372205       456784.547296       3.264134   \n",
       "std    235690.618252       239291.081207       1.137449   \n",
       "min    110005.000000       110001.000000       1.000000   \n",
       "25%    226001.000000       226020.000000       2.000000   \n",
       "50%    416001.000000       422005.500000       3.000000   \n",
       "75%    695014.000000       695017.000000       4.000000   \n",
       "max    851101.000000       995657.000000      10.000000   \n",
       "\n",
       "       Manager_Num_Application  Manager_Num_Coded  Manager_Business  \\\n",
       "count              8844.000000        8844.000000      8.844000e+03   \n",
       "mean                  1.939733           0.758933      1.843710e+05   \n",
       "std                   2.150529           1.188644      2.747163e+05   \n",
       "min                   0.000000           0.000000     -2.652890e+05   \n",
       "25%                   0.000000           0.000000      0.000000e+00   \n",
       "50%                   1.000000           0.000000      1.021780e+05   \n",
       "75%                   3.000000           1.000000      2.471165e+05   \n",
       "max                  22.000000           9.000000      3.578265e+06   \n",
       "\n",
       "       Manager_Num_Products  Manager_Business2  Manager_Num_Products2  \\\n",
       "count           8844.000000       8.844000e+03            8844.000000   \n",
       "mean               7.152307       1.829263e+05               7.131275   \n",
       "std                8.439351       2.718021e+05               8.423597   \n",
       "min                0.000000      -2.652890e+05               0.000000   \n",
       "25%                0.000000       0.000000e+00               0.000000   \n",
       "50%                5.000000       1.017140e+05               5.000000   \n",
       "75%               11.000000       2.464612e+05              11.000000   \n",
       "max              101.000000       3.578265e+06             101.000000   \n",
       "\n",
       "       Business_Sourced  \n",
       "count        9527.00000  \n",
       "mean            0.34292  \n",
       "std             0.47471  \n",
       "min             0.00000  \n",
       "25%             0.00000  \n",
       "50%             0.00000  \n",
       "75%             1.00000  \n",
       "max             1.00000  "
      ]
     },
     "execution_count": 5,
     "metadata": {},
     "output_type": "execute_result"
    }
   ],
   "source": [
    "train_df.describe()"
   ]
  },
  {
   "cell_type": "code",
   "execution_count": 6,
   "metadata": {},
   "outputs": [],
   "source": [
    "train_df[['Application_Receipt_Date','Applicant_BirthDate','Manager_DOJ','Manager_DoB']]=train_df.loc[:,['Application_Receipt_Date','Applicant_BirthDate','Manager_DOJ','Manager_DoB']].apply(pd.to_datetime,errors='ignore')\n",
    "test_df[['Application_Receipt_Date','Applicant_BirthDate','Manager_DOJ','Manager_DoB']]=test_df.loc[:,['Application_Receipt_Date','Applicant_BirthDate','Manager_DOJ','Manager_DoB']].apply(pd.to_datetime,errors='ignore')"
   ]
  },
  {
   "cell_type": "code",
   "execution_count": 7,
   "metadata": {},
   "outputs": [
    {
     "name": "stdout",
     "output_type": "stream",
     "text": [
      "<class 'pandas.core.frame.DataFrame'>\n",
      "RangeIndex: 9527 entries, 0 to 9526\n",
      "Data columns (total 23 columns):\n",
      "ID                             9527 non-null object\n",
      "Office_PIN                     9527 non-null int64\n",
      "Application_Receipt_Date       9527 non-null datetime64[ns]\n",
      "Applicant_City_PIN             9430 non-null float64\n",
      "Applicant_Gender               9460 non-null object\n",
      "Applicant_BirthDate            9454 non-null datetime64[ns]\n",
      "Applicant_Marital_Status       9454 non-null object\n",
      "Applicant_Occupation           8306 non-null object\n",
      "Applicant_Qualification        9441 non-null object\n",
      "Manager_DOJ                    8844 non-null datetime64[ns]\n",
      "Manager_Joining_Designation    8844 non-null object\n",
      "Manager_Current_Designation    8844 non-null object\n",
      "Manager_Grade                  8844 non-null float64\n",
      "Manager_Status                 8844 non-null object\n",
      "Manager_Gender                 8844 non-null object\n",
      "Manager_DoB                    8844 non-null datetime64[ns]\n",
      "Manager_Num_Application        8844 non-null float64\n",
      "Manager_Num_Coded              8844 non-null float64\n",
      "Manager_Business               8844 non-null float64\n",
      "Manager_Num_Products           8844 non-null float64\n",
      "Manager_Business2              8844 non-null float64\n",
      "Manager_Num_Products2          8844 non-null float64\n",
      "Business_Sourced               9527 non-null int64\n",
      "dtypes: datetime64[ns](4), float64(8), int64(2), object(9)\n",
      "memory usage: 1.3+ MB\n"
     ]
    }
   ],
   "source": [
    "train_df.info()"
   ]
  },
  {
   "cell_type": "code",
   "execution_count": 8,
   "metadata": {},
   "outputs": [
    {
     "data": {
      "text/plain": [
       "array([[<matplotlib.axes._subplots.AxesSubplot object at 0x081A2890>,\n",
       "        <matplotlib.axes._subplots.AxesSubplot object at 0x082892D0>,\n",
       "        <matplotlib.axes._subplots.AxesSubplot object at 0x082A4FF0>],\n",
       "       [<matplotlib.axes._subplots.AxesSubplot object at 0x082B2A90>,\n",
       "        <matplotlib.axes._subplots.AxesSubplot object at 0x082964D0>,\n",
       "        <matplotlib.axes._subplots.AxesSubplot object at 0x08296C70>],\n",
       "       [<matplotlib.axes._subplots.AxesSubplot object at 0x08310EB0>,\n",
       "        <matplotlib.axes._subplots.AxesSubplot object at 0x0867E990>,\n",
       "        <matplotlib.axes._subplots.AxesSubplot object at 0x086A26D0>],\n",
       "       [<matplotlib.axes._subplots.AxesSubplot object at 0x086C1630>,\n",
       "        <matplotlib.axes._subplots.AxesSubplot object at 0x086E8330>,\n",
       "        <matplotlib.axes._subplots.AxesSubplot object at 0x08701FD0>]],\n",
       "      dtype=object)"
      ]
     },
     "execution_count": 8,
     "metadata": {},
     "output_type": "execute_result"
    },
    {
     "data": {
      "image/png": "[encoded data removed]",
      "text/plain": [
       "<matplotlib.figure.Figure at 0x81a2590>"
      ]
     },
     "metadata": {},
     "output_type": "display_data"
    }
   ],
   "source": [
    "train_df[train_df.dtypes[(train_df.dtypes==\"float64\")|(train_df.dtypes==\"int64\")].index.values].hist(figsize=(11,11))"
   ]
  },
  {
   "cell_type": "code",
   "execution_count": 9,
   "metadata": {},
   "outputs": [
    {
     "data": {
      "text/plain": [
       "<matplotlib.axes._subplots.AxesSubplot at 0x8214c70>"
      ]
     },
     "execution_count": 9,
     "metadata": {},
     "output_type": "execute_result"
    },
    {
     "data": {
      "image/png": "[encoded data removed]",
      "text/plain": [
       "<matplotlib.figure.Figure at 0x8a47c30>"
      ]
     },
     "metadata": {},
     "output_type": "display_data"
    }
   ],
   "source": [
    "train_df.boxplot(rot=90)"
   ]
  },
  {
   "cell_type": "code",
   "execution_count": 10,
   "metadata": {},
   "outputs": [
    {
     "data": {
      "image/png": "[encoded data removed]",
      "text/plain": [
       "<matplotlib.figure.Figure at 0x87d8e70>"
      ]
     },
     "metadata": {},
     "output_type": "display_data"
    }
   ],
   "source": [
    "plt.boxplot(train_df['Manager_Num_Products'].dropna())\n",
    "train_df = train_df.loc[train_df.Manager_Num_Products<25,:]"
   ]
  },
  {
   "cell_type": "code",
   "execution_count": 11,
   "metadata": {},
   "outputs": [
    {
     "data": {
      "image/png": "[encoded data removed]",
      "text/plain": [
       "<matplotlib.figure.Figure at 0x87db4f0>"
      ]
     },
     "metadata": {},
     "output_type": "display_data"
    }
   ],
   "source": [
    "plt.boxplot(train_df['Manager_Num_Application'].dropna())\n",
    "train_df = train_df.loc[train_df.Manager_Num_Application<7,:]"
   ]
  },
  {
   "cell_type": "code",
   "execution_count": 12,
   "metadata": {},
   "outputs": [
    {
     "data": {
      "image/png": "[encoded data removed]",
      "text/plain": [
       "<matplotlib.figure.Figure at 0x88119d0>"
      ]
     },
     "metadata": {},
     "output_type": "display_data"
    }
   ],
   "source": [
    "plt.boxplot(train_df['Manager_Num_Coded'].dropna())\n",
    "train_df = train_df.loc[train_df.Manager_Num_Coded<2,:]"
   ]
  },
  {
   "cell_type": "code",
   "execution_count": 13,
   "metadata": {},
   "outputs": [
    {
     "data": {
      "text/plain": [
       "{'boxes': [<matplotlib.lines.Line2D at 0x8d104d0>],\n",
       " 'caps': [<matplotlib.lines.Line2D at 0x8d10c50>,\n",
       "  <matplotlib.lines.Line2D at 0x8d10ed0>],\n",
       " 'fliers': [<matplotlib.lines.Line2D at 0x8d17410>],\n",
       " 'means': [],\n",
       " 'medians': [<matplotlib.lines.Line2D at 0x8d10fd0>],\n",
       " 'whiskers': [<matplotlib.lines.Line2D at 0x8d10750>,\n",
       "  <matplotlib.lines.Line2D at 0x8d109d0>]}"
      ]
     },
     "execution_count": 13,
     "metadata": {},
     "output_type": "execute_result"
    },
    {
     "data": {
      "image/png": "[encoded data removed]",
      "text/plain": [
       "<matplotlib.figure.Figure at 0x886c2f0>"
      ]
     },
     "metadata": {},
     "output_type": "display_data"
    }
   ],
   "source": [
    "plt.boxplot(train_df['Manager_Num_Products2'].dropna())"
   ]
  },
  {
   "cell_type": "code",
   "execution_count": 14,
   "metadata": {},
   "outputs": [
    {
     "data": {
      "text/html": [
       "<div>\n",
       "<style scoped>\n",
       "    .dataframe tbody tr th:only-of-type {\n",
       "        vertical-align: middle;\n",
       "    }\n",
       "\n",
       "    .dataframe tbody tr th {\n",
       "        vertical-align: top;\n",
       "    }\n",
       "\n",
       "    .dataframe thead th {\n",
       "        text-align: right;\n",
       "    }\n",
       "</style>\n",
       "<table border=\"1\" class=\"dataframe\">\n",
       "  <thead>\n",
       "    <tr style=\"text-align: right;\">\n",
       "      <th></th>\n",
       "      <th>Office_PIN</th>\n",
       "      <th>Applicant_City_PIN</th>\n",
       "      <th>Manager_Grade</th>\n",
       "      <th>Manager_Num_Application</th>\n",
       "      <th>Manager_Num_Coded</th>\n",
       "      <th>Manager_Business</th>\n",
       "      <th>Manager_Num_Products</th>\n",
       "      <th>Manager_Business2</th>\n",
       "      <th>Manager_Num_Products2</th>\n",
       "      <th>Business_Sourced</th>\n",
       "    </tr>\n",
       "  </thead>\n",
       "  <tbody>\n",
       "    <tr>\n",
       "      <th>Office_PIN</th>\n",
       "      <td>1.000000</td>\n",
       "      <td>0.975765</td>\n",
       "      <td>-0.086000</td>\n",
       "      <td>0.046801</td>\n",
       "      <td>0.045150</td>\n",
       "      <td>0.078373</td>\n",
       "      <td>0.098372</td>\n",
       "      <td>0.077295</td>\n",
       "      <td>0.097434</td>\n",
       "      <td>0.043881</td>\n",
       "    </tr>\n",
       "    <tr>\n",
       "      <th>Applicant_City_PIN</th>\n",
       "      <td>0.975765</td>\n",
       "      <td>1.000000</td>\n",
       "      <td>-0.100366</td>\n",
       "      <td>0.042005</td>\n",
       "      <td>0.044108</td>\n",
       "      <td>0.077670</td>\n",
       "      <td>0.100246</td>\n",
       "      <td>0.076342</td>\n",
       "      <td>0.099302</td>\n",
       "      <td>0.044240</td>\n",
       "    </tr>\n",
       "    <tr>\n",
       "      <th>Manager_Grade</th>\n",
       "      <td>-0.086000</td>\n",
       "      <td>-0.100366</td>\n",
       "      <td>1.000000</td>\n",
       "      <td>-0.003737</td>\n",
       "      <td>-0.007430</td>\n",
       "      <td>0.296766</td>\n",
       "      <td>0.178202</td>\n",
       "      <td>0.296728</td>\n",
       "      <td>0.177811</td>\n",
       "      <td>0.040953</td>\n",
       "    </tr>\n",
       "    <tr>\n",
       "      <th>Manager_Num_Application</th>\n",
       "      <td>0.046801</td>\n",
       "      <td>0.042005</td>\n",
       "      <td>-0.003737</td>\n",
       "      <td>1.000000</td>\n",
       "      <td>0.321831</td>\n",
       "      <td>0.037827</td>\n",
       "      <td>0.041536</td>\n",
       "      <td>0.039674</td>\n",
       "      <td>0.041501</td>\n",
       "      <td>-0.052531</td>\n",
       "    </tr>\n",
       "    <tr>\n",
       "      <th>Manager_Num_Coded</th>\n",
       "      <td>0.045150</td>\n",
       "      <td>0.044108</td>\n",
       "      <td>-0.007430</td>\n",
       "      <td>0.321831</td>\n",
       "      <td>1.000000</td>\n",
       "      <td>0.163493</td>\n",
       "      <td>0.200170</td>\n",
       "      <td>0.166599</td>\n",
       "      <td>0.200101</td>\n",
       "      <td>-0.007029</td>\n",
       "    </tr>\n",
       "    <tr>\n",
       "      <th>Manager_Business</th>\n",
       "      <td>0.078373</td>\n",
       "      <td>0.077670</td>\n",
       "      <td>0.296766</td>\n",
       "      <td>0.037827</td>\n",
       "      <td>0.163493</td>\n",
       "      <td>1.000000</td>\n",
       "      <td>0.735981</td>\n",
       "      <td>0.992042</td>\n",
       "      <td>0.728982</td>\n",
       "      <td>0.002497</td>\n",
       "    </tr>\n",
       "    <tr>\n",
       "      <th>Manager_Num_Products</th>\n",
       "      <td>0.098372</td>\n",
       "      <td>0.100246</td>\n",
       "      <td>0.178202</td>\n",
       "      <td>0.041536</td>\n",
       "      <td>0.200170</td>\n",
       "      <td>0.735981</td>\n",
       "      <td>1.000000</td>\n",
       "      <td>0.741900</td>\n",
       "      <td>0.998757</td>\n",
       "      <td>-0.041638</td>\n",
       "    </tr>\n",
       "    <tr>\n",
       "      <th>Manager_Business2</th>\n",
       "      <td>0.077295</td>\n",
       "      <td>0.076342</td>\n",
       "      <td>0.296728</td>\n",
       "      <td>0.039674</td>\n",
       "      <td>0.166599</td>\n",
       "      <td>0.992042</td>\n",
       "      <td>0.741900</td>\n",
       "      <td>1.000000</td>\n",
       "      <td>0.740241</td>\n",
       "      <td>0.002600</td>\n",
       "    </tr>\n",
       "    <tr>\n",
       "      <th>Manager_Num_Products2</th>\n",
       "      <td>0.097434</td>\n",
       "      <td>0.099302</td>\n",
       "      <td>0.177811</td>\n",
       "      <td>0.041501</td>\n",
       "      <td>0.200101</td>\n",
       "      <td>0.728982</td>\n",
       "      <td>0.998757</td>\n",
       "      <td>0.740241</td>\n",
       "      <td>1.000000</td>\n",
       "      <td>-0.041697</td>\n",
       "    </tr>\n",
       "    <tr>\n",
       "      <th>Business_Sourced</th>\n",
       "      <td>0.043881</td>\n",
       "      <td>0.044240</td>\n",
       "      <td>0.040953</td>\n",
       "      <td>-0.052531</td>\n",
       "      <td>-0.007029</td>\n",
       "      <td>0.002497</td>\n",
       "      <td>-0.041638</td>\n",
       "      <td>0.002600</td>\n",
       "      <td>-0.041697</td>\n",
       "      <td>1.000000</td>\n",
       "    </tr>\n",
       "  </tbody>\n",
       "</table>\n",
       "</div>"
      ],
      "text/plain": [
       "                         Office_PIN  Applicant_City_PIN  Manager_Grade  \\\n",
       "Office_PIN                 1.000000            0.975765      -0.086000   \n",
       "Applicant_City_PIN         0.975765            1.000000      -0.100366   \n",
       "Manager_Grade             -0.086000           -0.100366       1.000000   \n",
       "Manager_Num_Application    0.046801            0.042005      -0.003737   \n",
       "Manager_Num_Coded          0.045150            0.044108      -0.007430   \n",
       "Manager_Business           0.078373            0.077670       0.296766   \n",
       "Manager_Num_Products       0.098372            0.100246       0.178202   \n",
       "Manager_Business2          0.077295            0.076342       0.296728   \n",
       "Manager_Num_Products2      0.097434            0.099302       0.177811   \n",
       "Business_Sourced           0.043881            0.044240       0.040953   \n",
       "\n",
       "                         Manager_Num_Application  Manager_Num_Coded  \\\n",
       "Office_PIN                              0.046801           0.045150   \n",
       "Applicant_City_PIN                      0.042005           0.044108   \n",
       "Manager_Grade                          -0.003737          -0.007430   \n",
       "Manager_Num_Application                 1.000000           0.321831   \n",
       "Manager_Num_Coded                       0.321831           1.000000   \n",
       "Manager_Business                        0.037827           0.163493   \n",
       "Manager_Num_Products                    0.041536           0.200170   \n",
       "Manager_Business2                       0.039674           0.166599   \n",
       "Manager_Num_Products2                   0.041501           0.200101   \n",
       "Business_Sourced                       -0.052531          -0.007029   \n",
       "\n",
       "                         Manager_Business  Manager_Num_Products  \\\n",
       "Office_PIN                       0.078373              0.098372   \n",
       "Applicant_City_PIN               0.077670              0.100246   \n",
       "Manager_Grade                    0.296766              0.178202   \n",
       "Manager_Num_Application          0.037827              0.041536   \n",
       "Manager_Num_Coded                0.163493              0.200170   \n",
       "Manager_Business                 1.000000              0.735981   \n",
       "Manager_Num_Products             0.735981              1.000000   \n",
       "Manager_Business2                0.992042              0.741900   \n",
       "Manager_Num_Products2            0.728982              0.998757   \n",
       "Business_Sourced                 0.002497             -0.041638   \n",
       "\n",
       "                         Manager_Business2  Manager_Num_Products2  \\\n",
       "Office_PIN                        0.077295               0.097434   \n",
       "Applicant_City_PIN                0.076342               0.099302   \n",
       "Manager_Grade                     0.296728               0.177811   \n",
       "Manager_Num_Application           0.039674               0.041501   \n",
       "Manager_Num_Coded                 0.166599               0.200101   \n",
       "Manager_Business                  0.992042               0.728982   \n",
       "Manager_Num_Products              0.741900               0.998757   \n",
       "Manager_Business2                 1.000000               0.740241   \n",
       "Manager_Num_Products2             0.740241               1.000000   \n",
       "Business_Sourced                  0.002600              -0.041697   \n",
       "\n",
       "                         Business_Sourced  \n",
       "Office_PIN                       0.043881  \n",
       "Applicant_City_PIN               0.044240  \n",
       "Manager_Grade                    0.040953  \n",
       "Manager_Num_Application         -0.052531  \n",
       "Manager_Num_Coded               -0.007029  \n",
       "Manager_Business                 0.002497  \n",
       "Manager_Num_Products            -0.041638  \n",
       "Manager_Business2                0.002600  \n",
       "Manager_Num_Products2           -0.041697  \n",
       "Business_Sourced                 1.000000  "
      ]
     },
     "execution_count": 14,
     "metadata": {},
     "output_type": "execute_result"
    }
   ],
   "source": [
    "train_df.corr()"
   ]
  },
  {
   "cell_type": "code",
   "execution_count": 15,
   "metadata": {},
   "outputs": [
    {
     "data": {
      "text/html": [
       "<div>\n",
       "<style scoped>\n",
       "    .dataframe tbody tr th:only-of-type {\n",
       "        vertical-align: middle;\n",
       "    }\n",
       "\n",
       "    .dataframe tbody tr th {\n",
       "        vertical-align: top;\n",
       "    }\n",
       "\n",
       "    .dataframe thead th {\n",
       "        text-align: right;\n",
       "    }\n",
       "</style>\n",
       "<table border=\"1\" class=\"dataframe\">\n",
       "  <thead>\n",
       "    <tr style=\"text-align: right;\">\n",
       "      <th>Applicant_Marital_Status</th>\n",
       "      <th>D</th>\n",
       "      <th>M</th>\n",
       "      <th>S</th>\n",
       "      <th>W</th>\n",
       "    </tr>\n",
       "    <tr>\n",
       "      <th>Applicant_Gender</th>\n",
       "      <th></th>\n",
       "      <th></th>\n",
       "      <th></th>\n",
       "      <th></th>\n",
       "    </tr>\n",
       "  </thead>\n",
       "  <tbody>\n",
       "    <tr>\n",
       "      <th>F</th>\n",
       "      <td>1</td>\n",
       "      <td>1030</td>\n",
       "      <td>556</td>\n",
       "      <td>4</td>\n",
       "    </tr>\n",
       "    <tr>\n",
       "      <th>M</th>\n",
       "      <td>2</td>\n",
       "      <td>3282</td>\n",
       "      <td>1756</td>\n",
       "      <td>1</td>\n",
       "    </tr>\n",
       "  </tbody>\n",
       "</table>\n",
       "</div>"
      ],
      "text/plain": [
       "Applicant_Marital_Status  D     M     S  W\n",
       "Applicant_Gender                          \n",
       "F                         1  1030   556  4\n",
       "M                         2  3282  1756  1"
      ]
     },
     "execution_count": 15,
     "metadata": {},
     "output_type": "execute_result"
    }
   ],
   "source": [
    "pd.crosstab(index=train_df[\"Applicant_Gender\"],columns=train_df[\"Applicant_Marital_Status\"])"
   ]
  },
  {
   "cell_type": "code",
   "execution_count": 16,
   "metadata": {},
   "outputs": [
    {
     "data": {
      "text/html": [
       "<div>\n",
       "<style scoped>\n",
       "    .dataframe tbody tr th:only-of-type {\n",
       "        vertical-align: middle;\n",
       "    }\n",
       "\n",
       "    .dataframe tbody tr th {\n",
       "        vertical-align: top;\n",
       "    }\n",
       "\n",
       "    .dataframe thead th {\n",
       "        text-align: right;\n",
       "    }\n",
       "</style>\n",
       "<table border=\"1\" class=\"dataframe\">\n",
       "  <thead>\n",
       "    <tr style=\"text-align: right;\">\n",
       "      <th>Applicant_Gender</th>\n",
       "      <th>F</th>\n",
       "      <th>M</th>\n",
       "    </tr>\n",
       "    <tr>\n",
       "      <th>Applicant_Qualification</th>\n",
       "      <th></th>\n",
       "      <th></th>\n",
       "    </tr>\n",
       "  </thead>\n",
       "  <tbody>\n",
       "    <tr>\n",
       "      <th>Associate / Fellow of Institute of Chartered Accountans of India</th>\n",
       "      <td>0</td>\n",
       "      <td>2</td>\n",
       "    </tr>\n",
       "    <tr>\n",
       "      <th>Associate/Fellow of Acturial Society of India</th>\n",
       "      <td>0</td>\n",
       "      <td>1</td>\n",
       "    </tr>\n",
       "    <tr>\n",
       "      <th>Associate/Fellow of Institute of Company Secretories of India</th>\n",
       "      <td>0</td>\n",
       "      <td>1</td>\n",
       "    </tr>\n",
       "    <tr>\n",
       "      <th>Associate/Fellow of Insurance Institute of India</th>\n",
       "      <td>0</td>\n",
       "      <td>1</td>\n",
       "    </tr>\n",
       "    <tr>\n",
       "      <th>Class X</th>\n",
       "      <td>14</td>\n",
       "      <td>131</td>\n",
       "    </tr>\n",
       "    <tr>\n",
       "      <th>Class XII</th>\n",
       "      <td>950</td>\n",
       "      <td>3169</td>\n",
       "    </tr>\n",
       "    <tr>\n",
       "      <th>Graduate</th>\n",
       "      <td>596</td>\n",
       "      <td>1614</td>\n",
       "    </tr>\n",
       "    <tr>\n",
       "      <th>Masters of Business Administration</th>\n",
       "      <td>10</td>\n",
       "      <td>49</td>\n",
       "    </tr>\n",
       "    <tr>\n",
       "      <th>Others</th>\n",
       "      <td>19</td>\n",
       "      <td>64</td>\n",
       "    </tr>\n",
       "    <tr>\n",
       "      <th>Professional Qualification in Marketing</th>\n",
       "      <td>1</td>\n",
       "      <td>0</td>\n",
       "    </tr>\n",
       "  </tbody>\n",
       "</table>\n",
       "</div>"
      ],
      "text/plain": [
       "Applicant_Gender                                      F     M\n",
       "Applicant_Qualification                                      \n",
       "Associate / Fellow of Institute of Chartered Ac...    0     2\n",
       "Associate/Fellow of Acturial Society of India         0     1\n",
       "Associate/Fellow of Institute of Company Secret...    0     1\n",
       "Associate/Fellow of Insurance Institute of India      0     1\n",
       "Class X                                              14   131\n",
       "Class XII                                           950  3169\n",
       "Graduate                                            596  1614\n",
       "Masters of Business Administration                   10    49\n",
       "Others                                               19    64\n",
       "Professional Qualification in Marketing               1     0"
      ]
     },
     "execution_count": 16,
     "metadata": {},
     "output_type": "execute_result"
    }
   ],
   "source": [
    "pd.crosstab(index=train_df[\"Applicant_Qualification\"],columns=train_df[\"Applicant_Gender\"])"
   ]
  },
  {
   "cell_type": "code",
   "execution_count": 17,
   "metadata": {},
   "outputs": [
    {
     "data": {
      "text/html": [
       "<div>\n",
       "<style scoped>\n",
       "    .dataframe tbody tr th:only-of-type {\n",
       "        vertical-align: middle;\n",
       "    }\n",
       "\n",
       "    .dataframe tbody tr th {\n",
       "        vertical-align: top;\n",
       "    }\n",
       "\n",
       "    .dataframe thead th {\n",
       "        text-align: right;\n",
       "    }\n",
       "</style>\n",
       "<table border=\"1\" class=\"dataframe\">\n",
       "  <thead>\n",
       "    <tr style=\"text-align: right;\">\n",
       "      <th>Applicant_Occupation</th>\n",
       "      <th>Business</th>\n",
       "      <th>Others</th>\n",
       "      <th>Salaried</th>\n",
       "      <th>Self Employed</th>\n",
       "      <th>Student</th>\n",
       "    </tr>\n",
       "    <tr>\n",
       "      <th>Applicant_Qualification</th>\n",
       "      <th></th>\n",
       "      <th></th>\n",
       "      <th></th>\n",
       "      <th></th>\n",
       "      <th></th>\n",
       "    </tr>\n",
       "  </thead>\n",
       "  <tbody>\n",
       "    <tr>\n",
       "      <th>Associate / Fellow of Institute of Chartered Accountans of India</th>\n",
       "      <td>1</td>\n",
       "      <td>0</td>\n",
       "      <td>0</td>\n",
       "      <td>0</td>\n",
       "      <td>1</td>\n",
       "    </tr>\n",
       "    <tr>\n",
       "      <th>Associate/Fellow of Acturial Society of India</th>\n",
       "      <td>0</td>\n",
       "      <td>0</td>\n",
       "      <td>1</td>\n",
       "      <td>0</td>\n",
       "      <td>0</td>\n",
       "    </tr>\n",
       "    <tr>\n",
       "      <th>Associate/Fellow of Institute of Company Secretories of India</th>\n",
       "      <td>0</td>\n",
       "      <td>0</td>\n",
       "      <td>1</td>\n",
       "      <td>0</td>\n",
       "      <td>0</td>\n",
       "    </tr>\n",
       "    <tr>\n",
       "      <th>Associate/Fellow of Insurance Institute of India</th>\n",
       "      <td>0</td>\n",
       "      <td>0</td>\n",
       "      <td>1</td>\n",
       "      <td>0</td>\n",
       "      <td>0</td>\n",
       "    </tr>\n",
       "    <tr>\n",
       "      <th>Class X</th>\n",
       "      <td>56</td>\n",
       "      <td>25</td>\n",
       "      <td>53</td>\n",
       "      <td>4</td>\n",
       "      <td>1</td>\n",
       "    </tr>\n",
       "    <tr>\n",
       "      <th>Class XII</th>\n",
       "      <td>1169</td>\n",
       "      <td>893</td>\n",
       "      <td>1760</td>\n",
       "      <td>50</td>\n",
       "      <td>62</td>\n",
       "    </tr>\n",
       "    <tr>\n",
       "      <th>Graduate</th>\n",
       "      <td>430</td>\n",
       "      <td>355</td>\n",
       "      <td>810</td>\n",
       "      <td>48</td>\n",
       "      <td>7</td>\n",
       "    </tr>\n",
       "    <tr>\n",
       "      <th>Masters of Business Administration</th>\n",
       "      <td>8</td>\n",
       "      <td>9</td>\n",
       "      <td>29</td>\n",
       "      <td>0</td>\n",
       "      <td>0</td>\n",
       "    </tr>\n",
       "    <tr>\n",
       "      <th>Others</th>\n",
       "      <td>10</td>\n",
       "      <td>28</td>\n",
       "      <td>33</td>\n",
       "      <td>2</td>\n",
       "      <td>0</td>\n",
       "    </tr>\n",
       "    <tr>\n",
       "      <th>Professional Qualification in Marketing</th>\n",
       "      <td>0</td>\n",
       "      <td>1</td>\n",
       "      <td>0</td>\n",
       "      <td>0</td>\n",
       "      <td>0</td>\n",
       "    </tr>\n",
       "  </tbody>\n",
       "</table>\n",
       "</div>"
      ],
      "text/plain": [
       "Applicant_Occupation                                Business  Others  \\\n",
       "Applicant_Qualification                                                \n",
       "Associate / Fellow of Institute of Chartered Ac...         1       0   \n",
       "Associate/Fellow of Acturial Society of India              0       0   \n",
       "Associate/Fellow of Institute of Company Secret...         0       0   \n",
       "Associate/Fellow of Insurance Institute of India           0       0   \n",
       "Class X                                                   56      25   \n",
       "Class XII                                               1169     893   \n",
       "Graduate                                                 430     355   \n",
       "Masters of Business Administration                         8       9   \n",
       "Others                                                    10      28   \n",
       "Professional Qualification in Marketing                    0       1   \n",
       "\n",
       "Applicant_Occupation                                Salaried  Self Employed  \\\n",
       "Applicant_Qualification                                                       \n",
       "Associate / Fellow of Institute of Chartered Ac...         0              0   \n",
       "Associate/Fellow of Acturial Society of India              1              0   \n",
       "Associate/Fellow of Institute of Company Secret...         1              0   \n",
       "Associate/Fellow of Insurance Institute of India           1              0   \n",
       "Class X                                                   53              4   \n",
       "Class XII                                               1760             50   \n",
       "Graduate                                                 810             48   \n",
       "Masters of Business Administration                        29              0   \n",
       "Others                                                    33              2   \n",
       "Professional Qualification in Marketing                    0              0   \n",
       "\n",
       "Applicant_Occupation                                Student  \n",
       "Applicant_Qualification                                      \n",
       "Associate / Fellow of Institute of Chartered Ac...        1  \n",
       "Associate/Fellow of Acturial Society of India             0  \n",
       "Associate/Fellow of Institute of Company Secret...        0  \n",
       "Associate/Fellow of Insurance Institute of India          0  \n",
       "Class X                                                   1  \n",
       "Class XII                                                62  \n",
       "Graduate                                                  7  \n",
       "Masters of Business Administration                        0  \n",
       "Others                                                    0  \n",
       "Professional Qualification in Marketing                   0  "
      ]
     },
     "execution_count": 17,
     "metadata": {},
     "output_type": "execute_result"
    }
   ],
   "source": [
    "pd.crosstab(index=train_df[\"Applicant_Qualification\"],columns=train_df[\"Applicant_Occupation\"])"
   ]
  },
  {
   "cell_type": "code",
   "execution_count": 18,
   "metadata": {},
   "outputs": [
    {
     "data": {
      "text/html": [
       "<div>\n",
       "<style scoped>\n",
       "    .dataframe tbody tr th:only-of-type {\n",
       "        vertical-align: middle;\n",
       "    }\n",
       "\n",
       "    .dataframe tbody tr th {\n",
       "        vertical-align: top;\n",
       "    }\n",
       "\n",
       "    .dataframe thead th {\n",
       "        text-align: right;\n",
       "    }\n",
       "</style>\n",
       "<table border=\"1\" class=\"dataframe\">\n",
       "  <thead>\n",
       "    <tr style=\"text-align: right;\">\n",
       "      <th>Business_Sourced</th>\n",
       "      <th>0</th>\n",
       "      <th>1</th>\n",
       "    </tr>\n",
       "    <tr>\n",
       "      <th>Manager_Grade</th>\n",
       "      <th></th>\n",
       "      <th></th>\n",
       "    </tr>\n",
       "  </thead>\n",
       "  <tbody>\n",
       "    <tr>\n",
       "      <th>1.0</th>\n",
       "      <td>5</td>\n",
       "      <td>1</td>\n",
       "    </tr>\n",
       "    <tr>\n",
       "      <th>2.0</th>\n",
       "      <td>1290</td>\n",
       "      <td>607</td>\n",
       "    </tr>\n",
       "    <tr>\n",
       "      <th>3.0</th>\n",
       "      <td>1599</td>\n",
       "      <td>818</td>\n",
       "    </tr>\n",
       "    <tr>\n",
       "      <th>4.0</th>\n",
       "      <td>1054</td>\n",
       "      <td>546</td>\n",
       "    </tr>\n",
       "    <tr>\n",
       "      <th>5.0</th>\n",
       "      <td>276</td>\n",
       "      <td>170</td>\n",
       "    </tr>\n",
       "    <tr>\n",
       "      <th>6.0</th>\n",
       "      <td>162</td>\n",
       "      <td>108</td>\n",
       "    </tr>\n",
       "    <tr>\n",
       "      <th>7.0</th>\n",
       "      <td>10</td>\n",
       "      <td>8</td>\n",
       "    </tr>\n",
       "    <tr>\n",
       "      <th>8.0</th>\n",
       "      <td>2</td>\n",
       "      <td>1</td>\n",
       "    </tr>\n",
       "    <tr>\n",
       "      <th>9.0</th>\n",
       "      <td>3</td>\n",
       "      <td>3</td>\n",
       "    </tr>\n",
       "    <tr>\n",
       "      <th>10.0</th>\n",
       "      <td>3</td>\n",
       "      <td>2</td>\n",
       "    </tr>\n",
       "  </tbody>\n",
       "</table>\n",
       "</div>"
      ],
      "text/plain": [
       "Business_Sourced     0    1\n",
       "Manager_Grade              \n",
       "1.0                  5    1\n",
       "2.0               1290  607\n",
       "3.0               1599  818\n",
       "4.0               1054  546\n",
       "5.0                276  170\n",
       "6.0                162  108\n",
       "7.0                 10    8\n",
       "8.0                  2    1\n",
       "9.0                  3    3\n",
       "10.0                 3    2"
      ]
     },
     "execution_count": 18,
     "metadata": {},
     "output_type": "execute_result"
    }
   ],
   "source": [
    "pd.crosstab(index=train_df[\"Manager_Grade\"],columns=train_df[\"Business_Sourced\"])"
   ]
  },
  {
   "cell_type": "code",
   "execution_count": 19,
   "metadata": {},
   "outputs": [
    {
     "data": {
      "text/plain": [
       "(44.1177672033956,\n",
       " 3.092016163041892e-11,\n",
       " 1,\n",
       " array([[2391.55428914, 1229.44571086],\n",
       "        [2012.44571086, 1034.55428914]]))"
      ]
     },
     "execution_count": 19,
     "metadata": {},
     "output_type": "execute_result"
    }
   ],
   "source": [
    "chi2_contingency(pd.crosstab(index=train_df[\"Manager_Status\"],columns=train_df[\"Business_Sourced\"]))"
   ]
  },
  {
   "cell_type": "code",
   "execution_count": 20,
   "metadata": {},
   "outputs": [
    {
     "data": {
      "text/plain": [
       "(206.4830728807791,\n",
       " 8.038774364622603e-47,\n",
       " 1,\n",
       " array([[ 205.06813386, 1387.93186614],\n",
       "        [ 648.93186614, 4392.06813386]]))"
      ]
     },
     "execution_count": 20,
     "metadata": {},
     "output_type": "execute_result"
    }
   ],
   "source": [
    "chi2_contingency(pd.crosstab(index=train_df[\"Applicant_Gender\"],columns=train_df[\"Manager_Gender\"]))"
   ]
  },
  {
   "cell_type": "code",
   "execution_count": 21,
   "metadata": {},
   "outputs": [
    {
     "data": {
      "text/plain": [
       "(3.2306120989136415,\n",
       " 0.35741749155299135,\n",
       " 3,\n",
       " array([[1.97587455e+00, 1.02412545e+00],\n",
       "        [2.83999035e+03, 1.47200965e+03],\n",
       "        [1.52274065e+03, 7.89259349e+02],\n",
       "        [3.29312425e+00, 1.70687575e+00]]))"
      ]
     },
     "execution_count": 21,
     "metadata": {},
     "output_type": "execute_result"
    }
   ],
   "source": [
    "chi2_contingency(pd.crosstab(index=train_df[\"Applicant_Marital_Status\"],columns=train_df[\"Business_Sourced\"]))"
   ]
  },
  {
   "cell_type": "code",
   "execution_count": 22,
   "metadata": {},
   "outputs": [
    {
     "data": {
      "text/plain": [
       "(27.83551913391652,\n",
       " 0.0010161288005187796,\n",
       " 9,\n",
       " array([[1.31632191e+00, 6.83678091e-01],\n",
       "        [6.58160954e-01, 3.41839046e-01],\n",
       "        [6.58160954e-01, 3.41839046e-01],\n",
       "        [6.58160954e-01, 3.41839046e-01],\n",
       "        [9.54333384e+01, 4.95666616e+01],\n",
       "        [2.71096497e+03, 1.40803503e+03],\n",
       "        [1.45519387e+03, 7.55806130e+02],\n",
       "        [3.88314963e+01, 2.01685037e+01],\n",
       "        [5.46273592e+01, 2.83726408e+01],\n",
       "        [6.58160954e-01, 3.41839046e-01]]))"
      ]
     },
     "execution_count": 22,
     "metadata": {},
     "output_type": "execute_result"
    }
   ],
   "source": [
    "chi2_contingency(pd.crosstab(index=train_df[\"Applicant_Qualification\"],columns=train_df[\"Business_Sourced\"]))"
   ]
  },
  {
   "cell_type": "code",
   "execution_count": 23,
   "metadata": {},
   "outputs": [
    {
     "data": {
      "text/plain": [
       "(62.73821987027176,\n",
       " 7.703700861440026e-13,\n",
       " 4,\n",
       " array([[1096.82769231,  577.17230769],\n",
       "        [ 858.98512821,  452.01487179],\n",
       "        [1762.52478632,  927.47521368],\n",
       "        [  68.14222222,   35.85777778],\n",
       "        [  46.52017094,   24.47982906]]))"
      ]
     },
     "execution_count": 23,
     "metadata": {},
     "output_type": "execute_result"
    }
   ],
   "source": [
    "chi2_contingency(pd.crosstab(index=train_df[\"Applicant_Occupation\"],columns=train_df[\"Business_Sourced\"]))"
   ]
  },
  {
   "cell_type": "code",
   "execution_count": 24,
   "metadata": {},
   "outputs": [
    {
     "data": {
      "text/html": [
       "<div>\n",
       "<style scoped>\n",
       "    .dataframe tbody tr th:only-of-type {\n",
       "        vertical-align: middle;\n",
       "    }\n",
       "\n",
       "    .dataframe tbody tr th {\n",
       "        vertical-align: top;\n",
       "    }\n",
       "\n",
       "    .dataframe thead th {\n",
       "        text-align: right;\n",
       "    }\n",
       "</style>\n",
       "<table border=\"1\" class=\"dataframe\">\n",
       "  <thead>\n",
       "    <tr style=\"text-align: right;\">\n",
       "      <th>Business_Sourced</th>\n",
       "      <th>0</th>\n",
       "      <th>1</th>\n",
       "    </tr>\n",
       "    <tr>\n",
       "      <th>Applicant_Occupation</th>\n",
       "      <th></th>\n",
       "      <th></th>\n",
       "    </tr>\n",
       "  </thead>\n",
       "  <tbody>\n",
       "    <tr>\n",
       "      <th>Business</th>\n",
       "      <td>1108</td>\n",
       "      <td>566</td>\n",
       "    </tr>\n",
       "    <tr>\n",
       "      <th>Others</th>\n",
       "      <td>829</td>\n",
       "      <td>482</td>\n",
       "    </tr>\n",
       "    <tr>\n",
       "      <th>Salaried</th>\n",
       "      <td>1754</td>\n",
       "      <td>936</td>\n",
       "    </tr>\n",
       "    <tr>\n",
       "      <th>Self Employed</th>\n",
       "      <td>104</td>\n",
       "      <td>0</td>\n",
       "    </tr>\n",
       "    <tr>\n",
       "      <th>Student</th>\n",
       "      <td>38</td>\n",
       "      <td>33</td>\n",
       "    </tr>\n",
       "  </tbody>\n",
       "</table>\n",
       "</div>"
      ],
      "text/plain": [
       "Business_Sourced         0    1\n",
       "Applicant_Occupation           \n",
       "Business              1108  566\n",
       "Others                 829  482\n",
       "Salaried              1754  936\n",
       "Self Employed          104    0\n",
       "Student                 38   33"
      ]
     },
     "execution_count": 24,
     "metadata": {},
     "output_type": "execute_result"
    }
   ],
   "source": [
    "pd.crosstab(index=train_df[\"Applicant_Occupation\"],columns=train_df[\"Business_Sourced\"])"
   ]
  },
  {
   "cell_type": "code",
   "execution_count": 25,
   "metadata": {},
   "outputs": [
    {
     "data": {
      "text/plain": [
       "(59.37602649325242,\n",
       " 7.989933950576019e-13,\n",
       " 3,\n",
       " array([[1107.88631857,  566.11368143],\n",
       "        [1780.29521921,  909.70478079],\n",
       "        [  68.82925755,   35.17074245],\n",
       "        [  46.98920467,   24.01079533]]))"
      ]
     },
     "execution_count": 25,
     "metadata": {},
     "output_type": "execute_result"
    }
   ],
   "source": [
    "chi2_contingency(pd.crosstab(index=train_df[\"Applicant_Occupation\"],columns=train_df[\"Business_Sourced\"]).drop(index='Others'))"
   ]
  },
  {
   "cell_type": "code",
   "execution_count": 26,
   "metadata": {},
   "outputs": [
    {
     "data": {
      "text/html": [
       "<div>\n",
       "<style scoped>\n",
       "    .dataframe tbody tr th:only-of-type {\n",
       "        vertical-align: middle;\n",
       "    }\n",
       "\n",
       "    .dataframe tbody tr th {\n",
       "        vertical-align: top;\n",
       "    }\n",
       "\n",
       "    .dataframe thead th {\n",
       "        text-align: right;\n",
       "    }\n",
       "</style>\n",
       "<table border=\"1\" class=\"dataframe\">\n",
       "  <thead>\n",
       "    <tr style=\"text-align: right;\">\n",
       "      <th>Business_Sourced</th>\n",
       "      <th>0</th>\n",
       "      <th>1</th>\n",
       "    </tr>\n",
       "    <tr>\n",
       "      <th>Applicant_Occupation</th>\n",
       "      <th></th>\n",
       "      <th></th>\n",
       "    </tr>\n",
       "  </thead>\n",
       "  <tbody>\n",
       "    <tr>\n",
       "      <th>Business</th>\n",
       "      <td>1108</td>\n",
       "      <td>566</td>\n",
       "    </tr>\n",
       "    <tr>\n",
       "      <th>Salaried</th>\n",
       "      <td>1754</td>\n",
       "      <td>936</td>\n",
       "    </tr>\n",
       "    <tr>\n",
       "      <th>Self Employed</th>\n",
       "      <td>104</td>\n",
       "      <td>0</td>\n",
       "    </tr>\n",
       "    <tr>\n",
       "      <th>Student</th>\n",
       "      <td>38</td>\n",
       "      <td>33</td>\n",
       "    </tr>\n",
       "  </tbody>\n",
       "</table>\n",
       "</div>"
      ],
      "text/plain": [
       "Business_Sourced         0    1\n",
       "Applicant_Occupation           \n",
       "Business              1108  566\n",
       "Salaried              1754  936\n",
       "Self Employed          104    0\n",
       "Student                 38   33"
      ]
     },
     "execution_count": 26,
     "metadata": {},
     "output_type": "execute_result"
    }
   ],
   "source": [
    "pd.crosstab(index=train_df[\"Applicant_Occupation\"],columns=train_df[\"Business_Sourced\"]).drop(index='Others')\n"
   ]
  },
  {
   "cell_type": "code",
   "execution_count": 27,
   "metadata": {},
   "outputs": [
    {
     "data": {
      "text/plain": [
       "(35.54933949854099,\n",
       " 8.815709252414269e-06,\n",
       " 7,\n",
       " array([[2.20728374e+03, 1.13471626e+03],\n",
       "        [1.44114097e+03, 7.40859028e+02],\n",
       "        [6.27444511e+02, 3.22555489e+02],\n",
       "        [8.85026995e+01, 4.54973005e+01],\n",
       "        [6.60467906e-01, 3.39532094e-01],\n",
       "        [3.96280744e+00, 2.03719256e+00],\n",
       "        [1.32093581e+00, 6.79064187e-01],\n",
       "        [3.36838632e+01, 1.73161368e+01]]))"
      ]
     },
     "execution_count": 27,
     "metadata": {},
     "output_type": "execute_result"
    }
   ],
   "source": [
    "chi2_contingency(pd.crosstab(index=train_df[\"Manager_Joining_Designation\"],columns=train_df[\"Business_Sourced\"]))"
   ]
  },
  {
   "cell_type": "code",
   "execution_count": 28,
   "metadata": {},
   "outputs": [
    {
     "data": {
      "text/plain": [
       "(44.1177672033956,\n",
       " 3.092016163041892e-11,\n",
       " 1,\n",
       " array([[2391.55428914, 1229.44571086],\n",
       "        [2012.44571086, 1034.55428914]]))"
      ]
     },
     "execution_count": 28,
     "metadata": {},
     "output_type": "execute_result"
    }
   ],
   "source": [
    "chi2_contingency(pd.crosstab(index=train_df[\"Manager_Status\"],columns=train_df[\"Business_Sourced\"]))"
   ]
  },
  {
   "cell_type": "code",
   "execution_count": 29,
   "metadata": {},
   "outputs": [
    {
     "data": {
      "text/plain": [
       "(21.025072381825993,\n",
       " 4.533122580907834e-06,\n",
       " 1,\n",
       " array([[ 467.01559688, 3153.98440312],\n",
       "        [ 392.98440312, 2654.01559688]]))"
      ]
     },
     "execution_count": 29,
     "metadata": {},
     "output_type": "execute_result"
    }
   ],
   "source": [
    "chi2_contingency(pd.crosstab(index=train_df[\"Manager_Status\"],columns=train_df[\"Manager_Gender\"]))"
   ]
  },
  {
   "cell_type": "code",
   "execution_count": 30,
   "metadata": {},
   "outputs": [
    {
     "data": {
      "text/plain": [
       "(2.0379526554021927,\n",
       " 0.15341601162173124,\n",
       " 1,\n",
       " array([[ 568.00239952,  291.99760048],\n",
       "        [3835.99760048, 1972.00239952]]))"
      ]
     },
     "execution_count": 30,
     "metadata": {},
     "output_type": "execute_result"
    }
   ],
   "source": [
    "chi2_contingency(pd.crosstab(index=train_df[\"Manager_Gender\"],columns=train_df[\"Business_Sourced\"]))"
   ]
  },
  {
   "cell_type": "code",
   "execution_count": 31,
   "metadata": {},
   "outputs": [
    {
     "data": {
      "text/plain": [
       "(6.132137344667205,\n",
       " 0.013274629835875075,\n",
       " 1,\n",
       " array([[ 865.41634007, 2738.58365993],\n",
       "        [ 727.58365993, 2302.41634007]]))"
      ]
     },
     "execution_count": 31,
     "metadata": {},
     "output_type": "execute_result"
    }
   ],
   "source": [
    "chi2_contingency(pd.crosstab(index=train_df[\"Manager_Status\"],columns=train_df[\"Applicant_Gender\"]))"
   ]
  },
  {
   "cell_type": "code",
   "execution_count": 32,
   "metadata": {},
   "outputs": [],
   "source": [
    "train_df['Applicant_City_PIN']=train_df['Applicant_City_PIN'].fillna(method='ffill')\n",
    "test_df['Applicant_City_PIN'] = test_df['Applicant_City_PIN'].fillna(method='ffill')"
   ]
  },
  {
   "cell_type": "code",
   "execution_count": 33,
   "metadata": {},
   "outputs": [
    {
     "data": {
      "text/plain": [
       "M    5041\n",
       "F    1593\n",
       "Name: Applicant_Gender, dtype: int64"
      ]
     },
     "execution_count": 33,
     "metadata": {},
     "output_type": "execute_result"
    }
   ],
   "source": [
    "train_df['Applicant_Gender'].value_counts()"
   ]
  },
  {
   "cell_type": "code",
   "execution_count": 34,
   "metadata": {},
   "outputs": [],
   "source": [
    "train_df['Applicant_Gender']=train_df['Applicant_Gender'].fillna(method='ffill')\n",
    "test_df['Applicant_Gender']=test_df['Applicant_Gender'].fillna(method='ffill')"
   ]
  },
  {
   "cell_type": "code",
   "execution_count": 35,
   "metadata": {},
   "outputs": [],
   "source": [
    "train_df['Applicant_BirthDate']=train_df['Applicant_BirthDate'].fillna(method='ffill')\n",
    "test_df['Applicant_BirthDate']=test_df['Applicant_BirthDate'].fillna(method='ffill')"
   ]
  },
  {
   "cell_type": "code",
   "execution_count": 36,
   "metadata": {},
   "outputs": [],
   "source": [
    "train_df['Application_Receipt_Date']=train_df['Application_Receipt_Date'].fillna(method='ffill')\n",
    "test_df['Application_Receipt_Date']=test_df['Application_Receipt_Date'].fillna(method='ffill')"
   ]
  },
  {
   "cell_type": "code",
   "execution_count": 37,
   "metadata": {},
   "outputs": [],
   "source": [
    "train_df['Applicant_Marital_Status']=train_df['Applicant_Marital_Status'].fillna(method='ffill')\n",
    "test_df['Applicant_Marital_Status']=test_df['Applicant_Marital_Status'].fillna(method='ffill')"
   ]
  },
  {
   "cell_type": "code",
   "execution_count": 38,
   "metadata": {},
   "outputs": [],
   "source": [
    "train_df['Applicant_Occupation']=train_df['Applicant_Occupation'].fillna(method='ffill')\n",
    "test_df['Applicant_Occupation']=test_df['Applicant_Occupation'].fillna(method='ffill')"
   ]
  },
  {
   "cell_type": "code",
   "execution_count": 39,
   "metadata": {},
   "outputs": [
    {
     "data": {
      "text/plain": [
       "False    6668\n",
       "Name: Applicant_Occupation, dtype: int64"
      ]
     },
     "execution_count": 39,
     "metadata": {},
     "output_type": "execute_result"
    }
   ],
   "source": [
    "train_df['Applicant_Occupation'].isnull().value_counts()"
   ]
  },
  {
   "cell_type": "code",
   "execution_count": 40,
   "metadata": {},
   "outputs": [],
   "source": [
    "train_df[['Manager_DOJ','Manager_Joining_Designation','Manager_Current_Designation']]=train_df[['Manager_DOJ','Manager_Joining_Designation','Manager_Current_Designation']].fillna(method='ffill')\n",
    "test_df[['Manager_DOJ','Manager_Joining_Designation','Manager_Current_Designation']]=test_df[['Manager_DOJ','Manager_Joining_Designation','Manager_Current_Designation']].fillna(method='ffill')"
   ]
  },
  {
   "cell_type": "code",
   "execution_count": 41,
   "metadata": {},
   "outputs": [],
   "source": [
    "train_df[['Manager_Grade','Manager_Status','Manager_Gender','Manager_DoB']]=train_df[['Manager_Grade','Manager_Status','Manager_Gender','Manager_DoB']].fillna(method='ffill')\n",
    "test_df[['Manager_Grade','Manager_Status','Manager_Gender','Manager_DoB']]=test_df[['Manager_Grade','Manager_Status','Manager_Gender','Manager_DoB']].fillna(method='ffill')"
   ]
  },
  {
   "cell_type": "code",
   "execution_count": 42,
   "metadata": {},
   "outputs": [],
   "source": [
    "manager_business_median =  train_df['Manager_Business'].median()\n",
    "train_df['Manager_Business']=train_df['Manager_Business'].fillna(manager_business_median)\n",
    "manager_business_median =  test_df['Manager_Business'].median()\n",
    "test_df['Manager_Business']=test_df['Manager_Business'].fillna(manager_business_median)"
   ]
  },
  {
   "cell_type": "code",
   "execution_count": 43,
   "metadata": {},
   "outputs": [],
   "source": [
    "manager_business_median2 =  train_df['Manager_Business2'].median()\n",
    "train_df['Manager_Business2']=train_df['Manager_Business2'].fillna(manager_business_median)\n",
    "manager_business_median2 =  test_df['Manager_Business2'].median()\n",
    "test_df['Manager_Business2']=test_df['Manager_Business2'].fillna(manager_business_median)"
   ]
  },
  {
   "cell_type": "code",
   "execution_count": 44,
   "metadata": {},
   "outputs": [],
   "source": [
    "manager_products_median =  train_df['Manager_Num_Products'].median()\n",
    "train_df['Manager_Num_Products']=train_df['Manager_Num_Products'].fillna(manager_products_median)\n",
    "manager_products_median =  test_df['Manager_Num_Products'].median()\n",
    "test_df['Manager_Num_Products']=test_df['Manager_Num_Products'].fillna(manager_products_median)"
   ]
  },
  {
   "cell_type": "code",
   "execution_count": 45,
   "metadata": {},
   "outputs": [],
   "source": [
    "manager_products_median2 =  train_df['Manager_Num_Products2'].median()\n",
    "train_df['Manager_Num_Products2']=train_df['Manager_Num_Products2'].fillna(manager_business_median2)\n",
    "manager_products_median2 =  test_df['Manager_Num_Products2'].median()\n",
    "test_df['Manager_Num_Products2']=test_df['Manager_Num_Products2'].fillna(manager_business_median2)"
   ]
  },
  {
   "cell_type": "code",
   "execution_count": 46,
   "metadata": {},
   "outputs": [],
   "source": [
    "manager_num_application_median =  train_df['Manager_Num_Application'].median()\n",
    "train_df['Manager_Num_Application']=train_df['Manager_Num_Application'].fillna(manager_num_application_median)\n",
    "manager_num_application_median =  test_df['Manager_Num_Application'].median()\n",
    "test_df['Manager_Num_Application']=test_df['Manager_Num_Application'].fillna(manager_num_application_median)"
   ]
  },
  {
   "cell_type": "code",
   "execution_count": 47,
   "metadata": {},
   "outputs": [],
   "source": [
    "manager_num_coded_median =  train_df['Manager_Num_Coded'].median()\n",
    "train_df['Manager_Num_Coded']=train_df['Manager_Num_Coded'].fillna(manager_num_coded_median)\n",
    "manager_num_coded_median =  test_df['Manager_Num_Coded'].median()\n",
    "test_df['Manager_Num_Coded']=test_df['Manager_Num_Coded'].fillna(manager_num_coded_median)"
   ]
  },
  {
   "cell_type": "code",
   "execution_count": 48,
   "metadata": {},
   "outputs": [],
   "source": [
    "train_df['Applicant_Qualification'] = train_df['Applicant_Qualification'].fillna(method='ffill')\n",
    "test_df['Applicant_Qualification'] = test_df['Applicant_Qualification'].fillna(method='ffill')"
   ]
  },
  {
   "cell_type": "code",
   "execution_count": 49,
   "metadata": {},
   "outputs": [],
   "source": [
    "train_df['Applicant_Age'] = train_df['Application_Receipt_Date'].dt.year - train_df['Applicant_BirthDate'].dt.year\n",
    "train_df['Manager_Experience'] = train_df['Application_Receipt_Date'].dt.year - train_df['Manager_DOJ'].dt.year\n",
    "test_df['Applicant_Age'] = test_df['Application_Receipt_Date'].dt.year - test_df['Applicant_BirthDate'].dt.year\n",
    "test_df['Manager_Experience'] = test_df['Application_Receipt_Date'].dt.year - test_df['Manager_DOJ'].dt.year"
   ]
  },
  {
   "cell_type": "code",
   "execution_count": 50,
   "metadata": {},
   "outputs": [],
   "source": [
    "train_ID = train_df['ID']\n",
    "test_ID = test_df['ID']\n",
    "train_df = train_df.drop(['ID','Office_PIN','Manager_Joining_Designation','Manager_Status','Manager_Gender','Applicant_BirthDate','Application_Receipt_Date','Manager_DOJ','Manager_DoB'],axis=1)\n",
    "test_df = test_df.drop(['ID','Office_PIN','Manager_Joining_Designation','Manager_Status','Manager_Gender'],axis=1)\n"
   ]
  },
  {
   "cell_type": "code",
   "execution_count": 51,
   "metadata": {},
   "outputs": [],
   "source": [
    "train_df = pd.get_dummies(train_df)\n",
    "test_df = pd.get_dummies(test_df)\n",
    "missing_cols = set( train_df.columns ) - set( test_df.columns)\n",
    "# Add a missing column in test set with default value equal to 0\n",
    "for c in missing_cols:\n",
    "    test_df[c] = 0\n",
    "test_df = test_df[train_df.columns]\n",
    "\n",
    "label = train_df.pop('Business_Sourced')\n",
    "x_train, x_test, y_train, y_test = train_test_split(train_df,label,test_size=0.50)\n",
    "# Add a missing column in test set with default value equal to 0"
   ]
  },
  {
   "cell_type": "code",
   "execution_count": 52,
   "metadata": {},
   "outputs": [],
   "source": [
    "from sklearn.tree import DecisionTreeClassifier\n",
    "from sklearn.neighbors import KNeighborsClassifier\n",
    "from sklearn.feature_selection import RFE\n",
    "from sklearn.ensemble import RandomForestClassifier\n",
    "from mlxtend.plotting import plot_decision_regions\n",
    "from sklearn.svm import SVC\n",
    "from sklearn.svm import LinearSVC"
   ]
  },
  {
   "cell_type": "code",
   "execution_count": 63,
   "metadata": {},
   "outputs": [
    {
     "data": {
      "image/png": "[encoded data removed]",
      "text/plain": [
       "<matplotlib.figure.Figure at 0x9320a30>"
      ]
     },
     "metadata": {},
     "output_type": "display_data"
    }
   ],
   "source": [
    "# x_train = train_df\n",
    "# y_train = label\n",
    "\n",
    "accuracy = []\n",
    "x = []\n",
    "for i in range(1,x_train.shape[1]):\n",
    "    clf = RandomForestClassifier(n_estimators=30,max_features=None)\n",
    "    x.append(i)\n",
    "    clf.fit(x_train,y_train)\n",
    "    pred = clf.predict(x_test)\n",
    "    accuracy.append(accuracy_score(y_test,pred))\n",
    "plt.plot(x,accuracy)\n",
    "plt.show()"
   ]
  },
  {
   "cell_type": "code",
   "execution_count": 54,
   "metadata": {},
   "outputs": [
    {
     "data": {
      "image/png": "[encoded data removed]",
      "text/plain": [
       "<matplotlib.figure.Figure at 0x8e481d0>"
      ]
     },
     "metadata": {},
     "output_type": "display_data"
    }
   ],
   "source": [
    "# clf_gini = DecisionTreeClassifier(criterion = \"gini\")\n",
    "# neigh = KNeighborsClassifier(n_neighbors=8)\n",
    "x_train = train_df\n",
    "y_train = label\n",
    "\n",
    "accuracy = []\n",
    "x = []\n",
    "for i in range(1,x_train.shape[1]):\n",
    "    clf = RandomForestClassifier(n_estimators=20,max_features=None)\n",
    "    x.append(i)\n",
    "    clf.fit(x_train,y_train)\n",
    "    clf.predict(x_test)\n",
    "    accuracy_score\n",
    "    accuracy.append(clf.score(x_train,y_train))\n",
    "plt.plot(x,accuracy)\n",
    "plt.show()"
   ]
  },
  {
   "cell_type": "code",
   "execution_count": 55,
   "metadata": {},
   "outputs": [
    {
     "data": {
      "text/plain": [
       "RandomForestClassifier(bootstrap=True, class_weight=None, criterion='gini',\n",
       "            max_depth=None, max_features=None, max_leaf_nodes=None,\n",
       "            min_impurity_decrease=0.0, min_impurity_split=None,\n",
       "            min_samples_leaf=1, min_samples_split=2,\n",
       "            min_weight_fraction_leaf=0.0, n_estimators=20, n_jobs=1,\n",
       "            oob_score=False, random_state=0, verbose=0, warm_start=False)"
      ]
     },
     "execution_count": 55,
     "metadata": {},
     "output_type": "execute_result"
    }
   ],
   "source": [
    "clf = RandomForestClassifier(random_state=0,n_estimators=20,max_features=None)\n",
    "# clf = LinearSVC()\n",
    "clf.fit(x_train,y_train)\n"
   ]
  },
  {
   "cell_type": "code",
   "execution_count": 56,
   "metadata": {},
   "outputs": [],
   "source": [
    "x_test = test_df.drop(['Business_Sourced'],axis=1)\n",
    "y_test = test_df['Business_Sourced']"
   ]
  },
  {
   "cell_type": "code",
   "execution_count": 57,
   "metadata": {},
   "outputs": [],
   "source": [
    "# pred = rfe.predict(x_test)\n",
    "pred = clf.predict(x_test)"
   ]
  },
  {
   "cell_type": "code",
   "execution_count": 58,
   "metadata": {},
   "outputs": [
    {
     "data": {
      "text/plain": [
       "0.993251349730054"
      ]
     },
     "execution_count": 58,
     "metadata": {},
     "output_type": "execute_result"
    }
   ],
   "source": [
    "# rfe.score(x_train,y_train)\n",
    "clf.score(x_train,y_train)"
   ]
  },
  {
   "cell_type": "code",
   "execution_count": 59,
   "metadata": {},
   "outputs": [],
   "source": [
    "# rfe.estimator_.tree_"
   ]
  },
  {
   "cell_type": "code",
   "execution_count": 60,
   "metadata": {},
   "outputs": [],
   "source": [
    "d = {'ID': test_ID, 'Business_Sourced': pred}\n",
    "final = pd.DataFrame(data=d)\n",
    "final = final[['ID','Business_Sourced']]"
   ]
  },
  {
   "cell_type": "code",
   "execution_count": 61,
   "metadata": {},
   "outputs": [],
   "source": [
    "final.to_csv('sample_submission.csv',index=False)"
   ]
  },
  {
   "cell_type": "code",
   "execution_count": null,
   "metadata": {},
   "outputs": [],
   "source": []
  },
  {
   "cell_type": "code",
   "execution_count": null,
   "metadata": {},
   "outputs": [],
   "source": []
  }
 ],
 "metadata": {
  "kernelspec": {
   "display_name": "Python 3",
   "language": "python",
   "name": "python3"
  },
  "language_info": {
   "codemirror_mode": {
    "name": "ipython",
    "version": 3
   },
   "file_extension": ".py",
   "mimetype": "text/x-python",
   "name": "python",
   "nbconvert_exporter": "python",
   "pygments_lexer": "ipython3",
   "version": "3.6.4"
  }
 },
 "nbformat": 4,
 "nbformat_minor": 2
}
